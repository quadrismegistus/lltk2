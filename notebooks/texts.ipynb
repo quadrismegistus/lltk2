{
 "cells": [
  {
   "cell_type": "code",
   "execution_count": 1,
   "id": "be98a5d7",
   "metadata": {},
   "outputs": [],
   "source": [
    "# This is needed to get django to play nice with jupyter\n",
    "import os\n",
    "import django\n",
    "os.environ.setdefault('DJANGO_SETTINGS_MODULE', 'rest.settings')\n",
    "os.environ[\"DJANGO_ALLOW_ASYNC_UNSAFE\"] = \"true\"\n",
    "django.setup()"
   ]
  },
  {
   "cell_type": "code",
   "execution_count": 8,
   "id": "14e57ff0",
   "metadata": {},
   "outputs": [],
   "source": [
    "au = Author(name=\"Ryan\")\n",
    "au.save()"
   ]
  },
  {
   "cell_type": "code",
   "execution_count": 9,
   "id": "ee3ec0dd",
   "metadata": {},
   "outputs": [
    {
     "data": {
      "text/plain": [
       "<Work: Work object (5)>"
      ]
     },
     "execution_count": 9,
     "metadata": {},
     "output_type": "execute_result"
    }
   ],
   "source": [
    "wo = Work(title=\"Key to all Mythologies\", author=au)\n",
    "wo.save()\n",
    "wo"
   ]
  },
  {
   "cell_type": "code",
   "execution_count": 24,
   "id": "a664f820",
   "metadata": {},
   "outputs": [
    {
     "ename": "TypeError",
     "evalue": "serializable_value() missing 1 required positional argument: 'field_name'",
     "output_type": "error",
     "traceback": [
      "\u001b[0;31m---------------------------------------------------------------------------\u001b[0m",
      "\u001b[0;31mTypeError\u001b[0m                                 Traceback (most recent call last)",
      "Cell \u001b[0;32mIn [24], line 1\u001b[0m\n\u001b[0;32m----> 1\u001b[0m \u001b[43mwo\u001b[49m\u001b[38;5;241;43m.\u001b[39;49m\u001b[43mserializable_value\u001b[49m\u001b[43m(\u001b[49m\u001b[43m)\u001b[49m\n",
      "\u001b[0;31mTypeError\u001b[0m: serializable_value() missing 1 required positional argument: 'field_name'"
     ]
    }
   ],
   "source": []
  },
  {
   "cell_type": "code",
   "execution_count": null,
   "id": "8ca9038f",
   "metadata": {},
   "outputs": [],
   "source": []
  }
 ],
 "metadata": {
  "kernelspec": {
   "display_name": "Django Shell-Plus",
   "language": "python",
   "name": "django_extensions"
  },
  "language_info": {
   "codemirror_mode": {
    "name": "ipython",
    "version": 3
   },
   "file_extension": ".py",
   "mimetype": "text/x-python",
   "name": "python",
   "nbconvert_exporter": "python",
   "pygments_lexer": "ipython3",
   "version": "3.8.14"
  }
 },
 "nbformat": 4,
 "nbformat_minor": 5
}
