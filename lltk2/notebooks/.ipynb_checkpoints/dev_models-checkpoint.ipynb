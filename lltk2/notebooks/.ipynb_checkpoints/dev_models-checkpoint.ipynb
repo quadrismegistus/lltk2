{
 "cells": [
  {
   "cell_type": "markdown",
   "id": "9656862a",
   "metadata": {},
   "source": [
    "# Django tutorial model experiments"
   ]
  },
  {
   "cell_type": "markdown",
   "id": "ca76b1d9",
   "metadata": {},
   "source": [
    "## Setup"
   ]
  },
  {
   "cell_type": "code",
   "execution_count": 1,
   "id": "a588489a",
   "metadata": {},
   "outputs": [],
   "source": [
    "# jupyter django setup\n",
    "import os,django\n",
    "os.environ.setdefault('DJANGO_SETTINGS_MODULE', 'rest.settings')\n",
    "os.environ[\"DJANGO_ALLOW_ASYNC_UNSAFE\"] = \"true\"\n",
    "django.setup()\n",
    "\n",
    "# notebook setup\n",
    "from texts.models import Author, Text\n",
    "import requests\n",
    "def getlink(url): return requests.get(url).text"
   ]
  },
  {
   "cell_type": "markdown",
   "id": "a5fbc9bc",
   "metadata": {},
   "source": [
    "## Create objects"
   ]
  },
  {
   "cell_type": "markdown",
   "id": "67cdf66f",
   "metadata": {},
   "source": [
    "### Authors\n",
    "\n",
    "Self-explanatory I suppose."
   ]
  },
  {
   "cell_type": "code",
   "execution_count": 2,
   "id": "bce55db5",
   "metadata": {},
   "outputs": [
    {
     "data": {
      "text/plain": [
       "(<ManyToOneRel: texts.work>,\n",
       " <ManyToOneRel: texts.book>,\n",
       " <ManyToOneRel: texts.text>,\n",
       " <django.db.models.fields.BigAutoField: id>,\n",
       " <django.db.models.fields.CharField: name>,\n",
       " <django.db.models.fields.IntegerField: dob>)"
      ]
     },
     "execution_count": 2,
     "metadata": {},
     "output_type": "execute_result"
    }
   ],
   "source": [
    "Author._meta.get_fields()"
   ]
  },
  {
   "cell_type": "code",
   "execution_count": 3,
   "id": "e3b3d06b",
   "metadata": {},
   "outputs": [
    {
     "data": {
      "text/plain": [
       "(<Author #1: Mary Wollstonecraft Shelley>, True)"
      ]
     },
     "execution_count": 3,
     "metadata": {},
     "output_type": "execute_result"
    }
   ],
   "source": [
    "# Create author\n",
    "shelley, created = Author.objects.get_or_create(name=\"Mary Wollstonecraft Shelley\", dob=1797)\n",
    "shelley, created"
   ]
  },
  {
   "cell_type": "markdown",
   "id": "8803de0a",
   "metadata": {},
   "source": [
    "### Works\n",
    "\n",
    "The abstract 'work' of _Frankenstein_, no matter its 1818 or 1831 editions or books."
   ]
  },
  {
   "cell_type": "code",
   "execution_count": 4,
   "id": "bebba8fa",
   "metadata": {},
   "outputs": [
    {
     "data": {
      "text/plain": [
       "(<ManyToOneRel: texts.book>,\n",
       " <ManyToOneRel: texts.text>,\n",
       " <django.db.models.fields.BigAutoField: id>,\n",
       " <django.db.models.fields.related.ForeignKey: author>,\n",
       " <django.db.models.fields.CharField: title>)"
      ]
     },
     "execution_count": 4,
     "metadata": {},
     "output_type": "execute_result"
    }
   ],
   "source": [
    "Work._meta.get_fields()"
   ]
  },
  {
   "cell_type": "code",
   "execution_count": 5,
   "id": "c503d8fe",
   "metadata": {},
   "outputs": [
    {
     "data": {
      "text/plain": [
       "(<Work #1: Frankenstein, by <Author #1: Mary Wollstonecraft Shelley>>, True)"
      ]
     },
     "execution_count": 5,
     "metadata": {},
     "output_type": "execute_result"
    }
   ],
   "source": [
    "work, created = Work.objects.get_or_create(title=\"Frankenstein\", author=shelley)\n",
    "work, created"
   ]
  },
  {
   "cell_type": "markdown",
   "id": "4c275325",
   "metadata": {},
   "source": [
    "### Books\n",
    "\n",
    "The actually published material artifacts of books are marked here. These can and should have an author; they can be associated with a work, or not."
   ]
  },
  {
   "cell_type": "code",
   "execution_count": 6,
   "id": "1365b122",
   "metadata": {},
   "outputs": [
    {
     "data": {
      "text/plain": [
       "(<Book #1: 'Frankenstein', in <Work #1: Frankenstein, by <Author #1: Mary Wollstonecraft Shelley>>>,\n",
       " True)"
      ]
     },
     "execution_count": 6,
     "metadata": {},
     "output_type": "execute_result"
    }
   ],
   "source": [
    "book1, created = Book.objects.get_or_create(title=\"Frankenstein\", year=1818, work=work, author = shelley)\n",
    "book1, created"
   ]
  },
  {
   "cell_type": "code",
   "execution_count": 7,
   "id": "9b49fe93",
   "metadata": {},
   "outputs": [
    {
     "data": {
      "text/plain": [
       "(<Book #2: 'Frankenstein', in <Work #1: Frankenstein, by <Author #1: Mary Wollstonecraft Shelley>>>,\n",
       " True)"
      ]
     },
     "execution_count": 7,
     "metadata": {},
     "output_type": "execute_result"
    }
   ],
   "source": [
    "book2, created = Book.objects.get_or_create(title=\"Frankenstein\", year=1831, work=work, author = shelley)\n",
    "book2, created"
   ]
  },
  {
   "cell_type": "markdown",
   "id": "2fd55a1b",
   "metadata": {},
   "source": [
    "### Texts\n",
    "\n",
    "An actual text string, which can be associated with a book, or just a work, or a separate or additional author, etc."
   ]
  },
  {
   "cell_type": "code",
   "execution_count": 8,
   "id": "b790bcc2",
   "metadata": {},
   "outputs": [
    {
     "data": {
      "text/plain": [
       "(<Text #1: '\\ufeffThe Project Gutenberg eB ...' (435631 chars), in <Book #1: 'Frankenstein', in <Work #1: Frankenstein, by <Author #1: Mary Wollstonecraft Shelley>>>>,\n",
       " True)"
      ]
     },
     "execution_count": 8,
     "metadata": {},
     "output_type": "execute_result"
    }
   ],
   "source": [
    "text1, created = Text.objects.get_or_create(\n",
    "    txt = getlink('https://www.gutenberg.org/cache/epub/41445/pg41445.txt'), \n",
    "    book = book1\n",
    ")\n",
    "text1, created"
   ]
  },
  {
   "cell_type": "code",
   "execution_count": 9,
   "id": "33474cbd",
   "metadata": {},
   "outputs": [
    {
     "data": {
      "text/plain": [
       "(<Text #2: '\\ufeffThe Project Gutenberg EB ...' (465593 chars), in <Book #1: 'Frankenstein', in <Work #1: Frankenstein, by <Author #1: Mary Wollstonecraft Shelley>>>>,\n",
       " True)"
      ]
     },
     "execution_count": 9,
     "metadata": {},
     "output_type": "execute_result"
    }
   ],
   "source": [
    "text2, created = Text.objects.get_or_create(\n",
    "    txt = getlink('https://www.gutenberg.org/cache/epub/42324/pg42324.txt'), \n",
    "    book = book1\n",
    ")\n",
    "text2, created"
   ]
  },
  {
   "cell_type": "code",
   "execution_count": 10,
   "id": "eb2e24b3",
   "metadata": {},
   "outputs": [
    {
     "data": {
      "text/plain": [
       "(None, <Author #1: Mary Wollstonecraft Shelley>)"
      ]
     },
     "execution_count": 10,
     "metadata": {},
     "output_type": "execute_result"
    }
   ],
   "source": [
    "# Get author even if none set on text object directly\n",
    "text1.author, text1.get_author()"
   ]
  },
  {
   "cell_type": "code",
   "execution_count": 12,
   "id": "29f20704",
   "metadata": {},
   "outputs": [
    {
     "data": {
      "text/plain": [
       "(False, True, False, True)"
      ]
     },
     "execution_count": 12,
     "metadata": {},
     "output_type": "execute_result"
    }
   ],
   "source": [
    "# Text objects equate but are not identical\n",
    "idx = text1.id\n",
    "(\n",
    "    Text.objects.get(id=idx) is text1, \n",
    "    Text.objects.get(id=idx) == text1,\n",
    "    Text.objects.get(id=idx) is Text.objects.get(id=idx),\n",
    "    Text.objects.get(id=idx) == Text.objects.get(id=idx),\n",
    ")"
   ]
  },
  {
   "cell_type": "markdown",
   "id": "ce856c31",
   "metadata": {},
   "source": [
    "## Creating in other ways"
   ]
  },
  {
   "cell_type": "code",
   "execution_count": 14,
   "id": "a0b3c2b1",
   "metadata": {},
   "outputs": [
    {
     "data": {
      "text/plain": [
       "(<Author #2: Charles Dickens>, False)"
      ]
     },
     "execution_count": 14,
     "metadata": {},
     "output_type": "execute_result"
    }
   ],
   "source": [
    "dickens, created = Author.objects.get_or_create(\n",
    "    name=\"Charles Dickens\",\n",
    "    dob=1812\n",
    ")\n",
    "dickens, created"
   ]
  },
  {
   "cell_type": "code",
   "execution_count": 16,
   "id": "53e8723f",
   "metadata": {},
   "outputs": [
    {
     "data": {
      "text/plain": [
       "(<Work #2: Great Expectations, by <Author #2: Charles Dickens>>, False)"
      ]
     },
     "execution_count": 16,
     "metadata": {},
     "output_type": "execute_result"
    }
   ],
   "source": [
    "wGE,wcreated = dickens.work_set.get_or_create(title=\"Great Expectations\")\n",
    "wGE,wcreated"
   ]
  },
  {
   "cell_type": "code",
   "execution_count": 18,
   "id": "73c8a29c",
   "metadata": {},
   "outputs": [
    {
     "data": {
      "text/plain": [
       "(<Book #3: 'Great Expectations', in <Work #2: Great Expectations, by <Author #2: Charles Dickens>>>,\n",
       " False)"
      ]
     },
     "execution_count": 18,
     "metadata": {},
     "output_type": "execute_result"
    }
   ],
   "source": [
    "bGE,bcreated = wGE.book_set.get_or_create(title=\"Great Expectations\")\n",
    "bGE,bcreated"
   ]
  },
  {
   "cell_type": "code",
   "execution_count": 20,
   "id": "2c7722e4",
   "metadata": {},
   "outputs": [
    {
     "data": {
      "text/plain": [
       "(<Text #3: 'ï»¿The Project Gutenberg ...' (1058019 chars), in <Book #3: 'Great Expectations', in <Work #2: Great Expectations, by <Author #2: Charles Dickens>>>>,\n",
       " False)"
      ]
     },
     "execution_count": 20,
     "metadata": {},
     "output_type": "execute_result"
    }
   ],
   "source": [
    "tGE,tcreated = bGE.text_set.get_or_create(\n",
    "    txt = getlink('https://www.gutenberg.org/files/1400/1400-0.txt')\n",
    ")\n",
    "tGE,tcreated"
   ]
  },
  {
   "cell_type": "code",
   "execution_count": null,
   "id": "8a79f283",
   "metadata": {},
   "outputs": [],
   "source": []
  }
 ],
 "metadata": {
  "kernelspec": {
   "display_name": "Django Shell-Plus",
   "language": "python",
   "name": "django_extensions"
  },
  "language_info": {
   "codemirror_mode": {
    "name": "ipython",
    "version": 3
   },
   "file_extension": ".py",
   "mimetype": "text/x-python",
   "name": "python",
   "nbconvert_exporter": "python",
   "pygments_lexer": "ipython3",
   "version": "3.8.14"
  }
 },
 "nbformat": 4,
 "nbformat_minor": 5
}
